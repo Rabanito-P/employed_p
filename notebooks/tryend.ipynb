{
 "cells": [
  {
   "cell_type": "code",
   "execution_count": 1,
   "id": "e2f64113",
   "metadata": {},
   "outputs": [
    {
     "name": "stdout",
     "output_type": "stream",
     "text": [
      "Archivos en el directorio actual:\n",
      "La carpeta ./models no existe\n",
      "\n",
      "Ruta esperada del modelo: c:\\Users\\destr\\Downloads\\ML_FINAL\\employ-kmeans\\models/kmeans_model.joblib\n",
      "¿Existe? True\n"
     ]
    }
   ],
   "source": [
    "import os\n",
    "import joblib\n",
    "\n",
    "# Verificar qué archivos existen\n",
    "print(\"Archivos en el directorio actual:\")\n",
    "for root, dirs, files in os.walk('.'):\n",
    "    for file in files:\n",
    "        if file.endswith('.joblib') or file.endswith('.pkl'):\n",
    "            print(f\"Encontrado: {os.path.join(root, file)}\")\n",
    "\n",
    "# Verificar específicamente la carpeta models\n",
    "if os.path.exists('./models'):\n",
    "    print(\"\\nArchivos en ./models:\")\n",
    "    print(os.listdir('./models'))\n",
    "else:\n",
    "    print(\"La carpeta ./models no existe\")\n",
    "\n",
    "# Verificar ruta desde config\n",
    "import sys\n",
    "sys.path.append('..')  # Para acceder a config desde notebooks\n",
    "from config.paths import PATHS\n",
    "\n",
    "print(f\"\\nRuta esperada del modelo: {PATHS['model_joblib']}\")\n",
    "print(f\"¿Existe? {os.path.exists(PATHS['model_joblib'])}\")"
   ]
  },
  {
   "cell_type": "code",
   "execution_count": 8,
   "id": "84bef891",
   "metadata": {},
   "outputs": [
    {
     "name": "stdout",
     "output_type": "stream",
     "text": [
      "Columnas esperadas por el modelo:\n",
      "['SEXO' 'EDAD' 'NIVEL_EDUCATIVO' 'TUVO_TRABAJO' 'BUSCA_OTRO_TRABAJO'\n",
      " 'TAMANO_EMPRESA' 'QUIERE_MAS_HORAS' 'INGRESO_PRINCIPAL' 'SEGURO_SALUD'\n",
      " 'DIAS_AUSENTE' 'DISCAPACIDAD' 'ETNIA_2' 'ETNIA_3' 'ETNIA_4' 'ETNIA_5'\n",
      " 'ETNIA_6' 'ETNIA_7' 'ETNIA_8' 'ETNIA_9' 'TIPO_TRABAJADOR_2.0'\n",
      " 'TIPO_TRABAJADOR_3.0' 'TIPO_TRABAJADOR_4.0' 'TIPO_TRABAJADOR_6.0'\n",
      " 'TIPO_TRABAJADOR_7.0' 'TIPO_TRABAJADOR_8.0' 'TIPO_TRABAJADOR_9.0'\n",
      " 'NIVEL_OCUPACION_2' 'NIVEL_OCUPACION_3' 'NIVEL_OCUPACION_4'\n",
      " 'REGISTRO_SUNAT_2.0' 'REGISTRO_SUNAT_3.0' 'LIBROS_CONTABLES_2.0'\n",
      " 'FRECUENCIA_PAGO_2.0' 'FRECUENCIA_PAGO_3.0' 'FRECUENCIA_PAGO_4.0'\n",
      " 'FRECUENCIA_PAGO_5.0']\n",
      "\n",
      "Pasos del pipeline:\n",
      "- imputer: SimpleImputer\n",
      "- scaler: StandardScaler\n",
      "- pca: PCA\n",
      "- kmeans: KMeans\n"
     ]
    }
   ],
   "source": [
    "# En tu notebook\n",
    "import sys\n",
    "sys.path.append('..')  # Para acceder a config desde notebooks\n",
    "from config.paths import PATHS\n",
    "import joblib\n",
    "\n",
    "# Cargar modelo con la ruta correcta\n",
    "#model = joblib.load(PATHS['model_joblib'])\n",
    "model = joblib.load('../models/kmeans_model__oldc.joblib')\n",
    "\n",
    "# Ver las columnas que espera\n",
    "print(\"Columnas esperadas por el modelo:\")\n",
    "try:\n",
    "    print(model.feature_names_in_)\n",
    "except AttributeError:\n",
    "    print(\"El modelo no tiene feature_names_in_\")\n",
    "\n",
    "# Ver los pasos del pipeline\n",
    "print(\"\\nPasos del pipeline:\")\n",
    "for step_name, step in model.named_steps.items():\n",
    "    print(f\"- {step_name}: {type(step).__name__}\")"
   ]
  },
  {
   "cell_type": "code",
   "execution_count": null,
   "id": "df1c9c0b",
   "metadata": {},
   "outputs": [
    {
     "name": "stdout",
     "output_type": "stream",
     "text": [
      "Columnas en los datos:\n",
      "['SEXO', 'TUVO_TRABAJO', 'BUSCA_OTRO_TRABAJO', 'QUIERE_MAS_HORAS', 'SEGURO_SALUD', 'LIMIT_MOVIMIENTO', 'LIMIT_VISION', 'LIMIT_COMUNICACION', 'LIMIT_AUDICION', 'LIMIT_APRENDIZAJE', 'LIMIT_RELACION', 'EDAD', 'INGRESO_PRINCIPAL', 'DIAS_AUSENTE', 'NIVEL_EDUCATIVO', 'TAMANO_EMPRESA', 'ETNIA', 'TIPO_TRABAJADOR', 'NIVEL_OCUPACION', 'REGISTRO_SUNAT', 'LIBROS_CONTABLES', 'FRECUENCIA_PAGO']\n",
      "¡Éxito! Clusters asignados: [2 2 0]\n"
     ]
    },
    {
     "name": "stderr",
     "output_type": "stream",
     "text": [
      "c:\\Users\\destr\\AppData\\Local\\Programs\\Python\\Python313\\Lib\\site-packages\\sklearn\\preprocessing\\_encoders.py:246: UserWarning: Found unknown categories in columns [0, 1, 2, 3, 4, 5] during transform. These unknown categories will be encoded as all zeros\n",
      "  warnings.warn(\n"
     ]
    }
   ],
   "source": [
    "# En tu notebook\n",
    "import sys\n",
    "sys.path.append('..')\n",
    "from config.paths import PATHS\n",
    "import joblib\n",
    "import pandas as pd\n",
    "\n",
    "# Cargar modelo\n",
    "model = joblib.load(PATHS['model_joblib'])\n",
    "\n",
    "# Datos COMPLETOS con todas las columnas requeridas\n",
    "nuevos_datos = pd.DataFrame({\n",
    "    # Variables binarias (1 o 2, el pipeline convierte 2→0)\n",
    "    'SEXO': [1, 2, 1],  # 1=Hombre, 2=Mujer\n",
    "    'TUVO_TRABAJO': [1, 2, 1],  # 1=Sí, 2=No\n",
    "    'BUSCA_OTRO_TRABAJO': [None, 2, 1],\n",
    "    'QUIERE_MAS_HORAS': [1, 2, 1],\n",
    "    'SEGURO_SALUD': [1, 2, 1],\n",
    "    'LIMIT_MOVIMIENTO': [1, None, 1],\n",
    "    'LIMIT_VISION': [1, 2, 1],\n",
    "    'LIMIT_COMUNICACION': [1, 2, 1],\n",
    "    'LIMIT_AUDICION': [1, 2, 1],\n",
    "    'LIMIT_APRENDIZAJE': [1, 2, 1],\n",
    "    'LIMIT_RELACION': [1, 2, 1],\n",
    "    \n",
    "    # Variables numéricas (valores reales)\n",
    "    'EDAD': [25, 45, 35],\n",
    "    'INGRESO_PRINCIPAL': [1500.0, 2500.0, 1800.0],\n",
    "    'DIAS_AUSENTE': [0, 2, 1],\n",
    "    \n",
    "    # ⚠️ COLUMNAS QUE FALTABAN ⚠️\n",
    "    'NIVEL_EDUCATIVO': [10, 8, 6],  # Valores numéricos\n",
    "    'TAMANO_EMPRESA': [3.0, 2.0, 1.0],  # Valores numéricos\n",
    "    \n",
    "    # Variables categóricas (valores como strings)\n",
    "    'ETNIA': ['Mestizo', 'Indígena', 'Blanco'],\n",
    "    'TIPO_TRABAJADOR': [None, 'Obrero', 'Independiente'],\n",
    "    'NIVEL_OCUPACION': ['Profesional', 'Técnico', 'Operario'],\n",
    "    'REGISTRO_SUNAT': [None, 'No', 'Sí'],\n",
    "    'LIBROS_CONTABLES': ['Sí', 'No', 'Sí'],\n",
    "    'FRECUENCIA_PAGO': ['Mensual', 'Semanal', 'Quincenal']\n",
    "})\n",
    "\n",
    "print(\"Columnas en los datos:\")\n",
    "print(list(nuevos_datos.columns))\n",
    "\n",
    "# Predecir\n",
    "try:\n",
    "    clusters = model.predict(nuevos_datos)\n",
    "    print(f\"¡Éxito! Clusters asignados: {clusters}\")\n",
    "except Exception as e:\n",
    "    print(f\"Error: {e}\")"
   ]
  },
  {
   "cell_type": "code",
   "execution_count": 17,
   "id": "75adab7c",
   "metadata": {},
   "outputs": [
    {
     "name": "stdout",
     "output_type": "stream",
     "text": [
      "¡Éxito! Clusters asignados: [3 2 3 3 1 3 1 1 2 2 3 3 2 0 0 3 0 3 1 2 0 1 0 0 1]\n"
     ]
    }
   ],
   "source": [
    "# Cargar desde tu archivo de ejemplo\n",
    "nuevos_datos = pd.read_csv('new_data_sample.csv')\n",
    "\n",
    "nuevos_datos = nuevos_datos.replace([''], None)\n",
    "\n",
    "# También puedes reemplazar valores faltantes generados por dobles comas (,,) al leer el CSV\n",
    "nuevos_datos = nuevos_datos.where(pd.notnull(nuevos_datos), None)\n",
    "\n",
    "# Predecir\n",
    "try:\n",
    "    clusters = model.predict(nuevos_datos)\n",
    "    print(f\"¡Éxito! Clusters asignados: {clusters}\")\n",
    "except Exception as e:\n",
    "    print(f\"Error: {e}\")"
   ]
  }
 ],
 "metadata": {
  "kernelspec": {
   "display_name": "Python 3",
   "language": "python",
   "name": "python3"
  },
  "language_info": {
   "codemirror_mode": {
    "name": "ipython",
    "version": 3
   },
   "file_extension": ".py",
   "mimetype": "text/x-python",
   "name": "python",
   "nbconvert_exporter": "python",
   "pygments_lexer": "ipython3",
   "version": "3.13.0"
  }
 },
 "nbformat": 4,
 "nbformat_minor": 5
}
